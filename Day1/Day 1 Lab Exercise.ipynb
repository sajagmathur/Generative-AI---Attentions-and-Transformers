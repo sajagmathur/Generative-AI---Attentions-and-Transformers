{
 "cells": [
  {
   "cell_type": "markdown",
   "id": "fe035dec",
   "metadata": {},
   "source": [
    "# Lab Exercise: Computing Attention Weights and Validating Matrix Multiplication\n"
   ]
  },
  {
   "cell_type": "markdown",
   "id": "3d3a4310",
   "metadata": {},
   "source": [
    "# Setup\n",
    "Assume you have n_tokens tokens and each token is embedded into a vector of dimension embedding_dim.\n"
   ]
  },
  {
   "cell_type": "markdown",
   "id": "b2731e4a",
   "metadata": {},
   "source": [
    "You have a tensor embedded_tokens of shape (n_tokens, embedding_dim) containing these embeddings.\n"
   ]
  },
  {
   "cell_type": "markdown",
   "id": "4d66cba0",
   "metadata": {},
   "source": [
    "# Task 1: Initialize an empty tensor for attention weights\n",
    "Use torch.empty() to create an empty tensor of shape (n_tokens, n_tokens) called attn_weights.\n",
    "\n"
   ]
  },
  {
   "cell_type": "markdown",
   "id": "13b92bbc",
   "metadata": {},
   "source": [
    "# Task 2: Compute attention weights using nested loops\n",
    "Use two for loops over the indices i and j ranging from 0 to n_tokens - 1.\n",
    "\n",
    "For each pair (i, j), compute the dot product between the embedding vectors embedded_tokens[i] and embedded_tokens[j].\n",
    "\n",
    "Store the result in attn_weights[i, j].\n",
    "\n"
   ]
  },
  {
   "cell_type": "markdown",
   "id": "e081d734",
   "metadata": {},
   "source": [
    "# Task 3: Compute attention weights using matrix multiplication\n",
    "Use the matrix multiplication operator to compute attn_weights_matmul as the product of embedded_tokens and the transpose of embedded_tokens.\n",
    "\n"
   ]
  },
  {
   "cell_type": "markdown",
   "id": "9a80b8b0",
   "metadata": {},
   "source": [
    "# Task 4: Verify that both methods give nearly the same results\n",
    "Use torch.allclose() to compare attn_weights and attn_weights_matmul within a tolerance (e.g., atol=1e-6).\n",
    "\n"
   ]
  },
  {
   "cell_type": "markdown",
   "id": "73fcca34",
   "metadata": {},
   "source": [
    "# Print whether the two matrices are approximately equal or not."
   ]
  },
  {
   "cell_type": "code",
   "execution_count": null,
   "id": "ba8a7f81",
   "metadata": {},
   "outputs": [],
   "source": []
  }
 ],
 "metadata": {
  "kernelspec": {
   "display_name": "Python 3 (ipykernel)",
   "language": "python",
   "name": "python3"
  },
  "language_info": {
   "codemirror_mode": {
    "name": "ipython",
    "version": 3
   },
   "file_extension": ".py",
   "mimetype": "text/x-python",
   "name": "python",
   "nbconvert_exporter": "python",
   "pygments_lexer": "ipython3",
   "version": "3.9.13"
  }
 },
 "nbformat": 4,
 "nbformat_minor": 5
}
