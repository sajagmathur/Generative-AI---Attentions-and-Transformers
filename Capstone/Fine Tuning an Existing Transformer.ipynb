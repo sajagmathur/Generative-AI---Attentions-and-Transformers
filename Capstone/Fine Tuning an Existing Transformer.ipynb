{
 "cells": [
  {
   "cell_type": "markdown",
   "id": "797e77b6-2fb1-4c28-b456-0a01a2fd8295",
   "metadata": {},
   "source": [
    "# We will fine tune a transformer model using a guided project\n",
    "About This Guided Project\n",
    "In this hands-on guided project, you will explore the powerful world of transformer-based neural networks, focusing on advanced classification tasks. You have two strategic options to approach your task:\n",
    "## •\tOption 1: Train a Model from Scratch\n",
    "Building a transformer model from the ground up is possible but often inefficient. Starting fresh means missing out on the immense benefits of transfer learning—the ability to leverage knowledge embedded in pretrained models that have already learned from vast and diverse datasets.\n",
    "## •\tOption 2: Fine-Tune a Pretrained Model\n",
    "Fine-tuning a pretrained transformer model is a proven and efficient approach. By adapting an existing model specifically to your classification problem, you save time, improve performance, and harness the power of prior learning.\n"
   ]
  },
  {
   "cell_type": "markdown",
   "id": "b5433499-dd2d-44f0-8ef5-994237ee9e17",
   "metadata": {},
   "source": [
    "https://cognitiveclass.ai/courses/fine-tune-a-transformer-based-neural-network-with-pytorch"
   ]
  },
  {
   "cell_type": "markdown",
   "id": "de68ce85-b644-44a5-bf6d-0599f8fd8e28",
   "metadata": {},
   "source": [
    "Practiced in Lab Environment, Jupyter Saved in the other ipynb file"
   ]
  },
  {
   "cell_type": "code",
   "execution_count": null,
   "id": "dcc8e148-6052-445b-890f-a6cd7f6fb8c1",
   "metadata": {},
   "outputs": [],
   "source": []
  }
 ],
 "metadata": {
  "kernelspec": {
   "display_name": "Python 3 (ipykernel)",
   "language": "python",
   "name": "python3"
  },
  "language_info": {
   "codemirror_mode": {
    "name": "ipython",
    "version": 3
   },
   "file_extension": ".py",
   "mimetype": "text/x-python",
   "name": "python",
   "nbconvert_exporter": "python",
   "pygments_lexer": "ipython3",
   "version": "3.12.7"
  }
 },
 "nbformat": 4,
 "nbformat_minor": 5
}
